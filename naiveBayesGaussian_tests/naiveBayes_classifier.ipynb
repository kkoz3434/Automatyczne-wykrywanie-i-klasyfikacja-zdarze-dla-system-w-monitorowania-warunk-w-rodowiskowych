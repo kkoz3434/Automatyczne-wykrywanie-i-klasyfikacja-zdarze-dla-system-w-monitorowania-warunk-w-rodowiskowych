{
 "cells": [
  {
   "cell_type": "code",
   "execution_count": 1,
   "id": "initial_id",
   "metadata": {
    "collapsed": true,
    "ExecuteTime": {
     "end_time": "2024-05-25T08:15:11.153864863Z",
     "start_time": "2024-05-25T08:15:09.971721464Z"
    }
   },
   "outputs": [],
   "source": [
    "import pandas as pd\n",
    "from sklearn.metrics import accuracy_score, precision_score, recall_score, f1_score\n",
    "from sklearn.naive_bayes import BernoulliNB, GaussianNB\n",
    "from sklearn.neural_network import MLPClassifier\n",
    "from sklearn.svm import SVC\n",
    "\n",
    "from common.data_frame_columns import PM10, PM2_5, PM1\n",
    "from common.date_time_helper import convert_to_datetime\n",
    "from common.endpoints_urls import endpoints_config\n",
    "from common.working_dataset_config import working_datetime, test_date_time_strings\n",
    "from data_management.data_crawler import DataManager\n",
    "from data_management.data_reshaper import reshape_data, prepare_dataset, flatten_data\n",
    "from data_management.labeled_data_generator import LabeledDataGenerator, DataLabel\n",
    "import numpy as np\n",
    "from sklearn.tree import DecisionTreeClassifier"
   ]
  },
  {
   "cell_type": "code",
   "outputs": [
    {
     "name": "stdout",
     "output_type": "stream",
     "text": [
      "Loading station data: Gronie  https://datahub.ki.agh.edu.pl/api/endpoints/70/data/\n",
      "    # Minimal data: 2022-07-13 23:38:02+00:00\n",
      "    # Maximal data: 2024-05-10 16:16:39+00:00\n",
      "Loading station data: Urząd Gminy  https://datahub.ki.agh.edu.pl/api/endpoints/71/data/\n",
      "    # Minimal data: 2023-10-28 07:17:18+00:00\n",
      "    # Maximal data: 2024-05-10 16:15:37+00:00\n",
      "Loading station data: Młynne  https://datahub.ki.agh.edu.pl/api/endpoints/72/data/\n",
      "    # Minimal data: 2022-02-12 21:11:18+00:00\n",
      "    # Maximal data: 2024-05-10 16:15:59+00:00\n",
      "Loading station data: Sucharskiego  https://datahub.ki.agh.edu.pl/api/endpoints/73/data/\n",
      "    # Minimal data: 2021-10-07 19:41:43+00:00\n",
      "    # Maximal data: 2024-05-10 16:19:11+00:00\n",
      "Loading station data: Twardowskiego  https://datahub.ki.agh.edu.pl/api/endpoints/74/data/\n",
      "    # Minimal data: 2021-10-07 20:59:56+00:00\n",
      "    # Maximal data: 2024-05-10 16:20:04+00:00\n",
      "Loading station data: Konopnickiej  https://datahub.ki.agh.edu.pl/api/endpoints/75/data/\n",
      "    # Minimal data: 2023-11-23 12:07:07+00:00\n",
      "    # Maximal data: 2024-05-10 16:18:45+00:00\n",
      "Finished loading data \n",
      " \n",
      "Daily datas: 1216\n",
      "Generated anomalies: 592\n",
      "    EXTINCTION: 118\n",
      "    SCALED: 108\n",
      "    NORMAL: 624\n",
      "    ZEROS_IN_RANGE: 119\n",
      "    RANDOM_ZEROS: 127\n",
      "    NOISE: 120\n",
      "\n",
      "Daily datas: 365\n",
      "Generated anomalies: 178\n",
      "    NORMAL: 187\n",
      "    SCALED: 37\n",
      "    RANDOM_ZEROS: 37\n",
      "    NOISE: 40\n",
      "    EXTINCTION: 30\n",
      "    ZEROS_IN_RANGE: 34\n",
      "\n",
      "Daily datas: 2190\n",
      "Generated anomalies: 1102\n",
      "    NOISE: 216\n",
      "    SCALED: 214\n",
      "    NORMAL: 1088\n",
      "    EXTINCTION: 229\n",
      "    RANDOM_ZEROS: 237\n",
      "    ZEROS_IN_RANGE: 206\n"
     ]
    }
   ],
   "source": [
    "date_strings = ['01.01.2023 00:00', '31.12.2023 23:59']\n",
    "test_dates_string = ['01.01.2021 00:00', '30.04.2024 23:59']\n",
    "\n",
    "training_dates = [convert_to_datetime(date_strings[0]), convert_to_datetime(date_strings[1])]\n",
    "test_dates = [convert_to_datetime(test_dates_string[0]), convert_to_datetime(test_dates_string[1])]\n",
    "\n",
    "datas = DataManager(True).get_all_endpoints_data(endpoints_config, update=False)\n",
    "\n",
    "column = PM10\n",
    "L = LabeledDataGenerator(column)\n",
    "\n",
    "test_data = L.generate_labeled_data(datas[:1], test_dates[0], test_dates[1], 40)\n",
    "single_data = L.generate_labeled_data(datas[:1], training_dates[0], training_dates[1], 40)\n",
    "multi_data = L.generate_labeled_data(datas, training_dates[0], training_dates[1], 40)"
   ],
   "metadata": {
    "collapsed": false,
    "ExecuteTime": {
     "end_time": "2024-05-25T08:16:14.307919075Z",
     "start_time": "2024-05-25T08:15:11.195799697Z"
    }
   },
   "id": "86519bbc04ca44be",
   "execution_count": 2
  },
  {
   "cell_type": "code",
   "outputs": [],
   "source": [
    "class MyBayesClassifier:\n",
    "    def __init__(self, ):\n",
    "        self.xdxd = GaussianNB()\n",
    "\n",
    "    def fit_data(self, labeled_data, column):\n",
    "        X, y = prepare_dataset(labeled_data, column)\n",
    "        X = flatten_data(X)\n",
    "        self.xdxd.fit(X, y)\n",
    "\n",
    "    def test_accuracy(self, labeled_data, column):\n",
    "        X_set, y_set = prepare_dataset(labeled_data, column)\n",
    "        X_set = flatten_data(X_set)\n",
    "        predicted = self.xdxd.predict(X_set)\n",
    "        accuracy = accuracy_score(y_set, predicted)\n",
    "        precision = precision_score(y_set, predicted, average='weighted')\n",
    "        recall = recall_score(y_set, predicted, average='weighted')\n",
    "        f1 = f1_score(y_set, predicted, average='weighted', zero_division=np.nan)\n",
    "\n",
    "        return accuracy, precision, recall, f1"
   ],
   "metadata": {
    "collapsed": false,
    "ExecuteTime": {
     "end_time": "2024-05-25T08:16:14.308263502Z",
     "start_time": "2024-05-25T08:16:14.307803680Z"
    }
   },
   "id": "4a165559d94e8b9c",
   "execution_count": 3
  },
  {
   "cell_type": "code",
   "outputs": [
    {
     "name": "stdout",
     "output_type": "stream",
     "text": [
      "{'name': 'nbg_SDSC', 'accuracy': 0.5165562913907285, 'precision': 0.6870871468782717, 'recall': 0.5165562913907285, 'f1': 0.5348976620573791}\n",
      "{'name': 'nbg_SDMC', 'accuracy': 0.5049668874172185, 'precision': 0.6791002488100161, 'recall': 0.5049668874172185, 'f1': 0.5315880809217833}\n",
      "{'name': 'nbg_MDSC', 'accuracy': 0.6440397350993378, 'precision': 0.715151143107533, 'recall': 0.6440397350993378, 'f1': 0.6642711875260443}\n",
      "{'name': 'nbg_MDMC', 'accuracy': 0.7334437086092715, 'precision': 0.7480083804852642, 'recall': 0.7334437086092715, 'f1': 0.7386712002269304}\n"
     ]
    }
   ],
   "source": [
    "from matplotlib import pyplot as plt\n",
    "\n",
    "config_list = [\n",
    "    {\n",
    "        'name': 'nbg_SDSC',\n",
    "        'columns': [PM10],\n",
    "        'training_datas': single_data,\n",
    "        'test_datas': test_data\n",
    "    },\n",
    "    {\n",
    "        'name': 'nbg_SDMC',\n",
    "        'columns': [PM10, PM1, PM2_5],\n",
    "        'training_datas': single_data,\n",
    "        'test_datas': test_data\n",
    "    },\n",
    "    {\n",
    "        'name': 'nbg_MDSC',\n",
    "        'columns': [PM10],\n",
    "        'training_datas': multi_data,\n",
    "        'test_datas': test_data\n",
    "    },\n",
    "    {\n",
    "        'name': 'nbg_MDMC',\n",
    "        'columns': [PM10, PM1, PM2_5],\n",
    "        'training_datas': multi_data,\n",
    "        'test_datas': test_data\n",
    "    }\n",
    "]\n",
    "final_result = []\n",
    "for config in config_list:\n",
    "    knn = MyBayesClassifier()\n",
    "    knn.fit_data(config['training_datas'], config['columns'])\n",
    "    accuracy, precision, recall, f1 = knn.test_accuracy(config['test_datas'], config['columns'])\n",
    "    \n",
    "        \n",
    "    print({'name': config['name'], 'accuracy': accuracy, 'precision': precision, 'recall': recall,\n",
    "           'f1': f1})\n",
    "\n",
    "    final_result.append({'name': config['name'], \n",
    "                         'acc': accuracy,\n",
    "                         'prec': precision,\n",
    "                         'recall': recall,\n",
    "                         'f1': f1, })\n"
   ],
   "metadata": {
    "collapsed": false,
    "ExecuteTime": {
     "end_time": "2024-05-25T08:16:20.266420131Z",
     "start_time": "2024-05-25T08:16:14.307916068Z"
    }
   },
   "id": "a7700086158c50b8",
   "execution_count": 4
  },
  {
   "cell_type": "code",
   "outputs": [
    {
     "data": {
      "text/plain": "<Figure size 640x480 with 1 Axes>",
      "image/png": "[encoded data removed]"
     },
     "metadata": {},
     "output_type": "display_data"
    }
   ],
   "source": [
    "x_labels = ['accuracy', 'precision', 'recall', 'f1_score']\n",
    "x = np.arange(len(x_labels))\n",
    "width = 0.15 \n",
    "multiplier = 0\n",
    "fig, ax = plt.subplots()\n",
    "\n",
    "accuracies = [x['acc'] for x in final_result]\n",
    "\n",
    "\n",
    "for result in final_result:\n",
    "    offset = width * multiplier\n",
    "    rects = ax.bar(x + offset, [result['acc'], result['prec'], result['recall'], result['f1']], width, label=result['name'])\n",
    "    # ax.bar_label(rects, padding=4)\n",
    "    multiplier += 1\n",
    "    \n",
    "ax.set_title('Gaussian Naive Bayes ')\n",
    "ax.set_xticks(x + width, x_labels)\n",
    "ax.legend(loc='upper right', )\n",
    "ax.set_ylim(0, 1.1)\n",
    "plt.show()\n",
    "\n"
   ],
   "metadata": {
    "collapsed": false,
    "ExecuteTime": {
     "end_time": "2024-05-25T09:39:29.277321703Z",
     "start_time": "2024-05-25T09:39:29.148250292Z"
    }
   },
   "id": "7336ff67cd2100f3",
   "execution_count": 9
  },
  {
   "cell_type": "code",
   "outputs": [
    {
     "name": "stdout",
     "output_type": "stream",
     "text": [
      "name : nbg_SDSC\n",
      "acc : 0.5165562913907285\n",
      "prec : 0.6870871468782717\n",
      "recall : 0.5165562913907285\n",
      "f1 : 0.5348976620573791\n",
      "\n",
      "name : nbg_SDMC\n",
      "acc : 0.5049668874172185\n",
      "prec : 0.6791002488100161\n",
      "recall : 0.5049668874172185\n",
      "f1 : 0.5315880809217833\n",
      "\n",
      "name : nbg_MDSC\n",
      "acc : 0.6440397350993378\n",
      "prec : 0.715151143107533\n",
      "recall : 0.6440397350993378\n",
      "f1 : 0.6642711875260443\n",
      "\n",
      "name : nbg_MDMC\n",
      "acc : 0.7334437086092715\n",
      "prec : 0.7480083804852642\n",
      "recall : 0.7334437086092715\n",
      "f1 : 0.7386712002269304\n"
     ]
    }
   ],
   "source": [
    "for result in final_result:\n",
    "    for key, value in result.items():\n",
    "        print(f'{key} : {value}')\n",
    "    print()"
   ],
   "metadata": {
    "collapsed": false,
    "ExecuteTime": {
     "end_time": "2024-05-25T09:42:40.904342097Z",
     "start_time": "2024-05-25T09:42:40.860377127Z"
    }
   },
   "id": "7513e5fc2c7b27d8",
   "execution_count": 10
  },
  {
   "cell_type": "code",
   "outputs": [],
   "source": [
    "'''\n",
    "name : nbg_SDSC\n",
    "acc : 0.5165562913907285\n",
    "prec : 0.6870871468782717\n",
    "recall : 0.5165562913907285\n",
    "f1 : 0.5348976620573791\n",
    "\n",
    "name : nbg_SDMC\n",
    "acc : 0.5049668874172185\n",
    "prec : 0.6791002488100161\n",
    "recall : 0.5049668874172185\n",
    "f1 : 0.5315880809217833\n",
    "\n",
    "name : nbg_MDSC\n",
    "acc : 0.6440397350993378\n",
    "prec : 0.715151143107533\n",
    "recall : 0.6440397350993378\n",
    "f1 : 0.6642711875260443\n",
    "\n",
    "name : nbg_MDMC\n",
    "acc : 0.7334437086092715\n",
    "prec : 0.7480083804852642\n",
    "recall : 0.7334437086092715\n",
    "f1 : 0.7386712002269304\n",
    "'''"
   ],
   "metadata": {
    "collapsed": false
   },
   "id": "d89431de9727e20c"
  }
 ],
 "metadata": {
  "kernelspec": {
   "display_name": "Python 3",
   "language": "python",
   "name": "python3"
  },
  "language_info": {
   "codemirror_mode": {
    "name": "ipython",
    "version": 2
   },
   "file_extension": ".py",
   "mimetype": "text/x-python",
   "name": "python",
   "nbconvert_exporter": "python",
   "pygments_lexer": "ipython2",
   "version": "2.7.6"
  }
 },
 "nbformat": 4,
 "nbformat_minor": 5
}
