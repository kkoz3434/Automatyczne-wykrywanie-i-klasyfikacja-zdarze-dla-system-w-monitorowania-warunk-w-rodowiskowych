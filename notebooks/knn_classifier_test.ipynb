{
 "cells": [
  {
   "cell_type": "code",
   "execution_count": 3,
   "id": "initial_id",
   "metadata": {
    "collapsed": true,
    "ExecuteTime": {
     "end_time": "2024-04-24T19:51:23.333528434Z",
     "start_time": "2024-04-24T19:51:23.231449817Z"
    }
   },
   "outputs": [],
   "source": [
    "import pandas as pd\n",
    "from sklearn.metrics import accuracy_score\n",
    "\n",
    "from common.data_frame_columns import PM10, PM2_5, PM1\n",
    "from common.date_time_helper import convert_to_datetime\n",
    "from common.endpoints_urls import endpoints_config\n",
    "from common.working_dataset_config import working_datetime_strings_5_months, test_date_time_strings\n",
    "from data_management.data_crawler import DataManager\n",
    "from data_management.data_reshaper import reshape_data, prepare_dataset, flatten_data\n",
    "from data_management.labeled_data_generator import LabeledDataGenerator, DataLabel\n",
    "import numpy as np\n",
    "from sklearn.neighbors import KNeighborsClassifier"
   ]
  },
  {
   "cell_type": "code",
   "outputs": [
    {
     "name": "stdout",
     "output_type": "stream",
     "text": [
      "Loading station data: Gronie  https://datahub.ki.agh.edu.pl/api/endpoints/70/data/\n",
      "    # Minimal data: 2022-07-13 23:38:02+00:00\n",
      "    # Maximal data: 2024-04-24 18:19:11+00:00\n",
      "Loading station data: Urząd Gminy  https://datahub.ki.agh.edu.pl/api/endpoints/71/data/\n"
     ]
    },
    {
     "name": "stderr",
     "output_type": "stream",
     "text": [
      "/media/kkoz34/HDD_kkoz34/Magisterka/Magisterka/data_management/data_crawler.py:93: DtypeWarning: Columns (36,41) have mixed types. Specify dtype option on import or set low_memory=False.\n",
      "  df = pd.read_csv(filename)\n"
     ]
    },
    {
     "name": "stdout",
     "output_type": "stream",
     "text": [
      "    # Minimal data: 2021-10-07 18:51:17+00:00\n",
      "    # Maximal data: 2024-04-24 18:24:28+00:00\n",
      "Loading station data: Młynne  https://datahub.ki.agh.edu.pl/api/endpoints/72/data/\n",
      "    # Minimal data: 2021-10-07 19:17:59+00:00\n",
      "    # Maximal data: 2024-04-24 18:21:45+00:00\n",
      "Loading station data: Sucharskiego  https://datahub.ki.agh.edu.pl/api/endpoints/73/data/\n",
      "    # Minimal data: 2021-10-07 19:41:43+00:00\n",
      "    # Maximal data: 2024-04-24 18:21:44+00:00\n",
      "Loading station data: Twardowskiego  https://datahub.ki.agh.edu.pl/api/endpoints/74/data/\n",
      "    # Minimal data: 2021-10-07 20:59:56+00:00\n",
      "    # Maximal data: 2024-04-24 18:21:51+00:00\n",
      "Loading station data: Konopnickiej  https://datahub.ki.agh.edu.pl/api/endpoints/75/data/\n",
      "    # Minimal data: 2021-10-07 21:07:07+00:00\n",
      "    # Maximal data: 2024-04-24 18:22:09+00:00\n",
      "Finished loading data \n",
      " \n",
      "Daily datas: 3090\n",
      "Generated anomalies: 1300\n",
      "    NORMAL: 1790\n",
      "    EXTINCTION: 254\n",
      "    ZEROS_IN_RANGE: 258\n",
      "    NOISE: 257\n",
      "    SCALED: 280\n",
      "    RANDOM_ZEROS: 251\n",
      "\n",
      "Daily datas: 180\n",
      "Generated anomalies: 84\n",
      "    NORMAL: 96\n",
      "    SCALED: 21\n",
      "    RANDOM_ZEROS: 12\n",
      "    EXTINCTION: 22\n",
      "    NOISE: 14\n",
      "    ZEROS_IN_RANGE: 15\n"
     ]
    }
   ],
   "source": [
    "\n",
    "datas = DataManager(True).get_all_endpoints_data(endpoints_config, update=False)\n",
    "\n",
    "date_strings = working_datetime_strings_5_months\n",
    "training_dates = [convert_to_datetime(date_strings[0]), convert_to_datetime(date_strings[1])]\n",
    "\n",
    "test_dates_string = test_date_time_strings\n",
    "test_dates = [convert_to_datetime(test_dates_string[0]), convert_to_datetime(test_dates_string[1])]\n",
    "\n",
    "column = PM10\n",
    "columns = [PM10]\n",
    "\n",
    "L = LabeledDataGenerator(column)\n",
    "prepared_data = L.generate_labeled_data(datas, training_dates[0], training_dates[1], 40)\n",
    "test_data = L.generate_labeled_data(datas, test_dates[0], test_dates[1], 40)"
   ],
   "metadata": {
    "collapsed": false,
    "ExecuteTime": {
     "end_time": "2024-04-24T19:52:19.818392738Z",
     "start_time": "2024-04-24T19:51:25.348053332Z"
    }
   },
   "id": "b8d5c93edaa7157",
   "execution_count": 5
  },
  {
   "cell_type": "code",
   "outputs": [],
   "source": [
    "class KNNClassifier:\n",
    "    def __init__(self, neighbours):\n",
    "        self.knn = KNeighborsClassifier(n_neighbors=neighbours, metric='l1')\n",
    "\n",
    "    def fit_data(self, labeled_data, columns):\n",
    "        X,y = prepare_dataset(labeled_data, columns)\n",
    "        X = flatten_data(X)\n",
    "        self.knn.fit(X,y)\n",
    "\n",
    "    def test_accuracy(self, labeled_data, columns):\n",
    "        X_set,y_set = prepare_dataset(labeled_data, columns)\n",
    "        X_set = flatten_data(X_set)\n",
    "        predicted = self.knn.predict(X_set)\n",
    "        accuracy = accuracy_score(y_set, predicted)\n",
    "        print(\"Accuracy of KNN: \", accuracy)\n",
    "        wrong_predicitons = [[DataLabel(p),DataLabel(y)] for p,y in zip(predicted, y_set) if p != y]\n",
    "        print(\"[Predicted, Actual]\")\n",
    "        for error in wrong_predicitons:\n",
    "            print(str(error[0]) + \", \" + str(error[1]))\n",
    "        return accuracy\n"
   ],
   "metadata": {
    "collapsed": false,
    "ExecuteTime": {
     "end_time": "2024-04-24T20:01:51.707999187Z",
     "start_time": "2024-04-24T20:01:51.645212235Z"
    }
   },
   "id": "df7140cf753249c6",
   "execution_count": 40
  },
  {
   "cell_type": "code",
   "outputs": [
    {
     "name": "stdout",
     "output_type": "stream",
     "text": [
      "Accuracy of KNN:  0.8018867924528302\n",
      "[Predicted, Actual]\n",
      "NORMAL, RANDOM_ZEROS\n",
      "NORMAL, RANDOM_ZEROS\n",
      "NORMAL, RANDOM_ZEROS\n",
      "NORMAL, RANDOM_ZEROS\n",
      "NORMAL, NOISE\n",
      "NORMAL, NOISE\n",
      "NORMAL, NOISE\n",
      "NORMAL, NOISE\n",
      "NORMAL, NOISE\n",
      "NORMAL, NOISE\n",
      "NORMAL, NOISE\n",
      "NORMAL, NOISE\n",
      "NORMAL, NOISE\n",
      "EXTINCTION, NORMAL\n",
      "EXTINCTION, NORMAL\n",
      "NORMAL, RANDOM_ZEROS\n",
      "NORMAL, SCALED\n",
      "EXTINCTION, NORMAL\n",
      "ZEROS_IN_RANGE, EXTINCTION\n",
      "NORMAL, SCALED\n",
      "ZEROS_IN_RANGE, RANDOM_ZEROS\n"
     ]
    },
    {
     "data": {
      "text/plain": "0.8018867924528302"
     },
     "execution_count": 43,
     "metadata": {},
     "output_type": "execute_result"
    }
   ],
   "source": [
    "knn = KNNClassifier(20)\n",
    "knn.fit_data(prepared_data, columns)\n",
    "knn.test_accuracy(test_data, columns)"
   ],
   "metadata": {
    "collapsed": false,
    "ExecuteTime": {
     "end_time": "2024-04-24T20:06:00.729924048Z",
     "start_time": "2024-04-24T20:05:58.410026991Z"
    }
   },
   "id": "993d41de3d062494",
   "execution_count": 43
  },
  {
   "cell_type": "code",
   "outputs": [],
   "source": [],
   "metadata": {
    "collapsed": false
   },
   "id": "ca3e144e9322a09f"
  }
 ],
 "metadata": {
  "kernelspec": {
   "display_name": "Python 3",
   "language": "python",
   "name": "python3"
  },
  "language_info": {
   "codemirror_mode": {
    "name": "ipython",
    "version": 2
   },
   "file_extension": ".py",
   "mimetype": "text/x-python",
   "name": "python",
   "nbconvert_exporter": "python",
   "pygments_lexer": "ipython2",
   "version": "2.7.6"
  }
 },
 "nbformat": 4,
 "nbformat_minor": 5
}
