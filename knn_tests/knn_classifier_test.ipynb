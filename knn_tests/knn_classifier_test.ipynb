{
 "cells": [
  {
   "cell_type": "code",
   "execution_count": 11,
   "id": "initial_id",
   "metadata": {
    "collapsed": true,
    "ExecuteTime": {
     "end_time": "2024-05-15T12:24:54.771472352Z",
     "start_time": "2024-05-15T12:24:54.647535438Z"
    }
   },
   "outputs": [],
   "source": [
    "import pandas as pd\n",
    "from sklearn.metrics import accuracy_score\n",
    "\n",
    "from common.data_frame_columns import PM10, PM2_5, PM1\n",
    "from common.date_time_helper import convert_to_datetime\n",
    "from common.endpoints_urls import endpoints_config\n",
    "from common.working_dataset_config import working_datetime, test_date_time_strings\n",
    "from data_management.data_crawler import DataManager\n",
    "from data_management.data_reshaper import reshape_data, prepare_dataset, flatten_data\n",
    "from data_management.labeled_data_generator import LabeledDataGenerator, DataLabel\n",
    "import numpy as np\n",
    "from sklearn.neighbors import KNeighborsClassifier"
   ]
  },
  {
   "cell_type": "code",
   "outputs": [],
   "source": [
    "class KNNClassifier:\n",
    "    def __init__(self, neighbours, metric):\n",
    "        self.knn = KNeighborsClassifier(n_neighbors=neighbours, metric=metric)\n",
    "\n",
    "    def fit_data(self, labeled_data, columns):\n",
    "        X, y = prepare_dataset(labeled_data, columns)\n",
    "        X = flatten_data(X)\n",
    "        self.knn.fit(X, y)\n",
    "\n",
    "    def test_accuracy(self, labeled_data, columns):\n",
    "        X_set, y_set = prepare_dataset(labeled_data, columns)\n",
    "        X_set = flatten_data(X_set)\n",
    "        predicted = self.knn.predict(X_set)\n",
    "        accuracy = accuracy_score(y_set, predicted)\n",
    "        # print(\"Accuracy of KNN: \", accuracy)\n",
    "        # wrong_predicitons = [[DataLabel(p), DataLabel(y)] for p, y in zip(predicted, y_set) if p != y]\n",
    "        # print(\"[Predicted, Actual]\")\n",
    "        # for error in wrong_predicitons:\n",
    "        #     print(str(error[0]) + \", \" + str(error[1]))\n",
    "        return accuracy\n"
   ],
   "metadata": {
    "collapsed": false,
    "ExecuteTime": {
     "end_time": "2024-05-15T12:24:54.784705105Z",
     "start_time": "2024-05-15T12:24:54.772394350Z"
    }
   },
   "id": "df7140cf753249c6",
   "execution_count": 12
  },
  {
   "cell_type": "code",
   "outputs": [
    {
     "name": "stdout",
     "output_type": "stream",
     "text": [
      "Loading station data: Gronie  https://datahub.ki.agh.edu.pl/api/endpoints/70/data/\n",
      "    # Minimal data: 2022-07-13 23:38:02+00:00\n",
      "    # Maximal data: 2024-05-10 16:16:39+00:00\n",
      "Loading station data: Urząd Gminy  https://datahub.ki.agh.edu.pl/api/endpoints/71/data/\n",
      "    # Minimal data: 2023-10-28 07:17:18+00:00\n",
      "    # Maximal data: 2024-05-10 16:15:37+00:00\n",
      "Loading station data: Młynne  https://datahub.ki.agh.edu.pl/api/endpoints/72/data/\n",
      "    # Minimal data: 2022-02-12 21:11:18+00:00\n",
      "    # Maximal data: 2024-05-10 16:15:59+00:00\n",
      "Loading station data: Sucharskiego  https://datahub.ki.agh.edu.pl/api/endpoints/73/data/\n",
      "    # Minimal data: 2021-10-07 19:41:43+00:00\n",
      "    # Maximal data: 2024-05-10 16:19:11+00:00\n",
      "Loading station data: Twardowskiego  https://datahub.ki.agh.edu.pl/api/endpoints/74/data/\n",
      "    # Minimal data: 2021-10-07 20:59:56+00:00\n",
      "    # Maximal data: 2024-05-10 16:20:04+00:00\n",
      "Loading station data: Konopnickiej  https://datahub.ki.agh.edu.pl/api/endpoints/75/data/\n",
      "    # Minimal data: 2023-11-23 12:07:07+00:00\n",
      "    # Maximal data: 2024-05-10 16:18:45+00:00\n",
      "Finished loading data \n",
      " \n",
      "Daily datas: 121\n",
      "Generated anomalies: 80\n",
      "    NORMAL: 41\n",
      "    RANDOM_ZEROS: 15\n",
      "    SCALED: 18\n",
      "    ZEROS_IN_RANGE: 18\n",
      "    NOISE: 15\n",
      "    EXTINCTION: 14\n",
      "\n",
      "Daily datas: 1095\n",
      "Generated anomalies: 676\n",
      "    ZEROS_IN_RANGE: 129\n",
      "    SCALED: 138\n",
      "    NORMAL: 419\n",
      "    EXTINCTION: 140\n",
      "    NOISE: 143\n",
      "    RANDOM_ZEROS: 126\n",
      "\n",
      "Daily datas: 6570\n",
      "Generated anomalies: 3912\n",
      "    NORMAL: 2658\n",
      "    RANDOM_ZEROS: 786\n",
      "    NOISE: 742\n",
      "    SCALED: 796\n",
      "    ZEROS_IN_RANGE: 776\n",
      "    EXTINCTION: 812\n"
     ]
    }
   ],
   "source": [
    "date_strings = ['01.01.2021 00:00', '31.12.2023 23:59']\n",
    "test_dates_string = ['01.01.2024 00:00', '30.04.2024 23:59']\n",
    "\n",
    "training_dates = [convert_to_datetime(date_strings[0]), convert_to_datetime(date_strings[1])]\n",
    "test_dates = [convert_to_datetime(test_dates_string[0]), convert_to_datetime(test_dates_string[1])]\n",
    "\n",
    "datas = DataManager(True).get_all_endpoints_data(endpoints_config, update=False)\n",
    "\n",
    "column = PM10\n",
    "L = LabeledDataGenerator(column)\n",
    "\n",
    "test_data = L.generate_labeled_data(datas[:1], test_dates[0], test_dates[1], 50)\n",
    "single_data = L.generate_labeled_data(datas[:1], training_dates[0], training_dates[1], 50)\n",
    "multi_data = L.generate_labeled_data(datas, training_dates[0], training_dates[1], 50)"
   ],
   "metadata": {
    "collapsed": false,
    "ExecuteTime": {
     "end_time": "2024-05-15T12:26:56.521083109Z",
     "start_time": "2024-05-15T12:24:54.785252529Z"
    }
   },
   "id": "b5ba002039fb817",
   "execution_count": 13
  },
  {
   "cell_type": "code",
   "outputs": [
    {
     "name": "stdout",
     "output_type": "stream",
     "text": [
      "cityblock | knn_SDSC\n",
      "cityblock | knn_SDMC\n",
      "cityblock | knn_MDSC\n",
      "cityblock | knn_MDMC\n"
     ]
    }
   ],
   "source": [
    "from matplotlib import pyplot as plt\n",
    "\n",
    "names_of_metrics = [\n",
    "    # 'euclidean',\n",
    "    'cityblock', \n",
    "    # 'cosine'\n",
    "]\n",
    "neighbours_max = 100\n",
    "config_list = [\n",
    "    {\n",
    "        'name': 'knn_SDSC',\n",
    "        'metrics': names_of_metrics,\n",
    "        'columns': [PM10],\n",
    "        'training_datas': single_data,\n",
    "        'test_datas': test_data\n",
    "    },\n",
    "    {\n",
    "        'name': 'knn_SDMC',\n",
    "        'metrics': names_of_metrics,\n",
    "        'columns': [PM10, PM1, PM2_5],\n",
    "        'training_datas': single_data,\n",
    "        'test_datas': test_data\n",
    "    },\n",
    "    {\n",
    "        'name': 'knn_MDSC',\n",
    "        'metrics': names_of_metrics,\n",
    "        'columns': [PM10],\n",
    "        'training_datas': multi_data,\n",
    "        'test_datas': test_data\n",
    "    },\n",
    "    {\n",
    "        'name': 'knn_MDMC',\n",
    "        'metrics': names_of_metrics,\n",
    "        'columns': [PM10, PM1, PM2_5],\n",
    "        'training_datas': multi_data,\n",
    "        'test_datas': test_data\n",
    "    }\n",
    "]\n",
    "\n",
    "final_result = []\n",
    "for metric in names_of_metrics:\n",
    "   \n",
    "    results = []\n",
    "    for config in config_list:\n",
    "        name = config['name']\n",
    "        print(f'{metric} | {name}')\n",
    "        x = []\n",
    "        y = []\n",
    "        for i in range(1, neighbours_max):\n",
    "            knn = KNNClassifier(i, metric)\n",
    "            knn.fit_data(config['training_datas'], config['columns'])\n",
    "            accuracy = knn.test_accuracy(config['test_datas'], config['columns'])\n",
    "            x.append(i)\n",
    "            y.append(accuracy)\n",
    "\n",
    "        results.append({\n",
    "            \"x\": x,\n",
    "            \"y\": y,\n",
    "            'name': name,\n",
    "        })\n",
    "    final_result.append({'result': results, 'metric': metric})"
   ],
   "metadata": {
    "collapsed": false,
    "ExecuteTime": {
     "end_time": "2024-05-15T23:00:26.766070680Z",
     "start_time": "2024-05-15T22:45:57.757463636Z"
    }
   },
   "id": "ca3e144e9322a09f",
   "execution_count": 20
  },
  {
   "cell_type": "code",
   "outputs": [
    {
     "data": {
      "text/plain": "<Figure size 1000x400 with 1 Axes>",
      "image/png": "[encoded data removed]"
     },
     "metadata": {},
     "output_type": "display_data"
    }
   ],
   "source": [
    "for setup in final_result:\n",
    "    plt.figure(figsize=(10, 4))\n",
    "    metric = setup['metric']\n",
    "    plt.title((metric + \" metric\").title())\n",
    "    plt.ylabel('Accuracy')\n",
    "    plt.xlabel('N_Neighbours')\n",
    "    for result in setup['result']:\n",
    "        plt.plot(result['x'], result['y'], label=result['name'])\n",
    "        \n",
    "    plt.ylim(0.0, 1.1)\n",
    "    plt.legend()\n",
    "    plt.show()"
   ],
   "metadata": {
    "collapsed": false,
    "ExecuteTime": {
     "end_time": "2024-05-15T23:00:26.959422158Z",
     "start_time": "2024-05-15T23:00:26.765922936Z"
    }
   },
   "id": "16c061a45635b8ef",
   "execution_count": 21
  },
  {
   "cell_type": "code",
   "outputs": [
    {
     "name": "stdout",
     "output_type": "stream",
     "text": [
      "{'metric': 'cityblock', 'acc': 0.6831683168316832, 'k': 3, 'name': 'knn_SDSC'}\n",
      "{'metric': 'cityblock', 'acc': 0.7326732673267327, 'k': 6, 'name': 'knn_SDMC'}\n",
      "{'metric': 'cityblock', 'acc': 0.693069306930693, 'k': 11, 'name': 'knn_MDSC'}\n",
      "{'metric': 'cityblock', 'acc': 0.7524752475247525, 'k': 7, 'name': 'knn_MDMC'}\n"
     ]
    }
   ],
   "source": [
    "accuracy_final = []\n",
    "for setup in final_result:\n",
    "    for result in setup['result']:\n",
    "        max = 0\n",
    "        max_k = 0\n",
    "        max_name = 0\n",
    "        x = result['x']\n",
    "        y = result['y']\n",
    "        for i in range(len(x)):\n",
    "            if y[i] > max:\n",
    "                max = y[i]\n",
    "                max_name = result['name']\n",
    "                max_k = x[i]\n",
    "        accuracy_final.append({'metric':setup['metric'] , 'acc': max, 'k': max_k, 'name': max_name})\n",
    "    \n",
    "for end in accuracy_final:\n",
    "    print(end)\n",
    "        \n",
    "        \n",
    "  "
   ],
   "metadata": {
    "collapsed": false,
    "ExecuteTime": {
     "end_time": "2024-05-15T23:00:26.975457753Z",
     "start_time": "2024-05-15T23:00:26.970945862Z"
    }
   },
   "id": "5a1008b4f967dc93",
   "execution_count": 22
  },
  {
   "cell_type": "code",
   "outputs": [],
   "source": [
    "'''\n",
    "{'metric': 'euclidean', 'acc': 0.6831683168316832, 'k': 14, 'name': 'knn_SDSC'}\n",
    "{'metric': 'euclidean', 'acc': 0.7128712871287128, 'k': 3, 'name': 'knn_SDMC'}\n",
    "{'metric': 'euclidean', 'acc': 0.6831683168316832, 'k': 9, 'name': 'knn_MDSC'}\n",
    "{'metric': 'euclidean', 'acc': 0.7425742574257426, 'k': 9, 'name': 'knn_MDMC'}\n",
    "\n",
    "{'metric': 'cityblock', 'acc': 0.6831683168316832, 'k': 3, 'name': 'knn_SDSC'}\n",
    "{'metric': 'cityblock', 'acc': 0.7326732673267327, 'k': 6, 'name': 'knn_SDMC'}\n",
    "{'metric': 'cityblock', 'acc': 0.693069306930693, 'k': 11, 'name': 'knn_MDSC'}\n",
    "{'metric': 'cityblock', 'acc': 0.7524752475247525, 'k': 7, 'name': 'knn_MDMC'}\n",
    "\n",
    "{'metric': 'cosine', 'acc': 0.39603960396039606, 'k': 6, 'name': 'knn_SDSC'}\n",
    "{'metric': 'cosine', 'acc': 0.7425742574257426, 'k': 6, 'name': 'knn_SDMC'}\n",
    "{'metric': 'cosine', 'acc': 0.39603960396039606, 'k': 6, 'name': 'knn_MDSC'}\n",
    "{'metric': 'cosine', 'acc': 0.7524752475247525, 'k': 7, 'name': 'knn_MDMC'}\n",
    "\n",
    "\n",
    "'''\n",
    "\n",
    "\n"
   ],
   "metadata": {
    "collapsed": false
   },
   "id": "5fac171a17be3b70"
  }
 ],
 "metadata": {
  "kernelspec": {
   "display_name": "Python 3",
   "language": "python",
   "name": "python3"
  },
  "language_info": {
   "codemirror_mode": {
    "name": "ipython",
    "version": 2
   },
   "file_extension": ".py",
   "mimetype": "text/x-python",
   "name": "python",
   "nbconvert_exporter": "python",
   "pygments_lexer": "ipython2",
   "version": "2.7.6"
  }
 },
 "nbformat": 4,
 "nbformat_minor": 5
}
