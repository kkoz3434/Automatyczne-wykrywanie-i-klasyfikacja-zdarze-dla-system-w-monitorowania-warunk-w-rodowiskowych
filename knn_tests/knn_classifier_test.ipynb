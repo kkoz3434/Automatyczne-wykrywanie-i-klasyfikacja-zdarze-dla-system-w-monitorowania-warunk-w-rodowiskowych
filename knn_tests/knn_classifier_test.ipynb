{
 "cells": [
  {
   "cell_type": "code",
   "execution_count": 20,
   "id": "initial_id",
   "metadata": {
    "collapsed": true,
    "ExecuteTime": {
     "end_time": "2024-04-25T09:19:07.905645219Z",
     "start_time": "2024-04-25T09:19:07.862694564Z"
    }
   },
   "outputs": [],
   "source": [
    "import pandas as pd\n",
    "from sklearn.metrics import accuracy_score\n",
    "\n",
    "from common.data_frame_columns import PM10, PM2_5, PM1\n",
    "from common.date_time_helper import convert_to_datetime\n",
    "from common.endpoints_urls import endpoints_config\n",
    "from common.working_dataset_config import working_datetime, test_date_time_strings\n",
    "from data_management.data_crawler import DataManager\n",
    "from data_management.data_reshaper import reshape_data, prepare_dataset, flatten_data\n",
    "from data_management.labeled_data_generator import LabeledDataGenerator, DataLabel\n",
    "import numpy as np\n",
    "from sklearn.neighbors import KNeighborsClassifier"
   ]
  },
  {
   "cell_type": "code",
   "outputs": [],
   "source": [
    "class KNNClassifier:\n",
    "    def __init__(self, neighbours, metric):\n",
    "        self.knn = KNeighborsClassifier(n_neighbors=neighbours, metric=metric)\n",
    "\n",
    "    def fit_data(self, labeled_data, columns):\n",
    "        X, y = prepare_dataset(labeled_data, columns)\n",
    "        X = flatten_data(X)\n",
    "        self.knn.fit(X, y)\n",
    "\n",
    "    def test_accuracy(self, labeled_data, columns):\n",
    "        X_set, y_set = prepare_dataset(labeled_data, columns)\n",
    "        X_set = flatten_data(X_set)\n",
    "        predicted = self.knn.predict(X_set)\n",
    "        accuracy = accuracy_score(y_set, predicted)\n",
    "        # print(\"Accuracy of KNN: \", accuracy)\n",
    "        # wrong_predicitons = [[DataLabel(p), DataLabel(y)] for p, y in zip(predicted, y_set) if p != y]\n",
    "        # print(\"[Predicted, Actual]\")\n",
    "        # for error in wrong_predicitons:\n",
    "        #     print(str(error[0]) + \", \" + str(error[1]))\n",
    "        return accuracy\n"
   ],
   "metadata": {
    "collapsed": false,
    "ExecuteTime": {
     "end_time": "2024-04-25T09:19:07.905996478Z",
     "start_time": "2024-04-25T09:19:07.905547348Z"
    }
   },
   "id": "df7140cf753249c6",
   "execution_count": 21
  },
  {
   "cell_type": "code",
   "outputs": [
    {
     "name": "stdout",
     "output_type": "stream",
     "text": [
      "Loading station data: Gronie  https://datahub.ki.agh.edu.pl/api/endpoints/70/data/\n",
      "    # Minimal data: 2022-07-13 23:38:02+00:00\n",
      "    # Maximal data: 2024-04-25 09:34:08+00:00\n",
      "# Updating data for given endpoint... \n",
      "    # Minimal data: 2022-07-13 23:38:02+00:00\n",
      "    # Maximal data: 2024-04-25 10:04:00+00:00\n",
      "Loading station data: Urząd Gminy  https://datahub.ki.agh.edu.pl/api/endpoints/71/data/\n"
     ]
    },
    {
     "name": "stderr",
     "output_type": "stream",
     "text": [
      "/media/kkoz34/HDD_kkoz34/Magisterka/Magisterka/data_management/data_crawler.py:93: DtypeWarning: Columns (42,47) have mixed types. Specify dtype option on import or set low_memory=False.\n",
      "  df = pd.read_csv(filename)\n"
     ]
    },
    {
     "name": "stdout",
     "output_type": "stream",
     "text": [
      "    # Minimal data: 2021-10-07 18:51:17+00:00\n",
      "    # Maximal data: 2024-04-25 09:39:36+00:00\n",
      "# Updating data for given endpoint... \n",
      "    # Minimal data: 2021-10-07 18:51:17+00:00\n",
      "    # Maximal data: 2024-04-25 10:10:22+00:00\n",
      "Loading station data: Młynne  https://datahub.ki.agh.edu.pl/api/endpoints/72/data/\n",
      "    # Minimal data: 2021-10-07 19:17:59+00:00\n",
      "    # Maximal data: 2024-04-25 09:48:15+00:00\n",
      "# Updating data for given endpoint... \n",
      "    # Minimal data: 2021-10-07 19:17:59+00:00\n",
      "    # Maximal data: 2024-04-25 10:18:16+00:00\n",
      "Loading station data: Sucharskiego  https://datahub.ki.agh.edu.pl/api/endpoints/73/data/\n",
      "    # Minimal data: 2021-10-07 19:41:43+00:00\n",
      "    # Maximal data: 2024-04-25 09:36:38+00:00\n",
      "# Updating data for given endpoint... \n",
      "    # Minimal data: 2021-10-07 19:41:43+00:00\n",
      "    # Maximal data: 2024-04-25 10:06:38+00:00\n",
      "Loading station data: Twardowskiego  https://datahub.ki.agh.edu.pl/api/endpoints/74/data/\n",
      "    # Minimal data: 2021-10-07 20:59:56+00:00\n",
      "    # Maximal data: 2024-04-25 09:38:25+00:00\n",
      "# Updating data for given endpoint... \n",
      "    # Minimal data: 2021-10-07 20:59:56+00:00\n",
      "    # Maximal data: 2024-04-25 10:08:26+00:00\n",
      "Loading station data: Konopnickiej  https://datahub.ki.agh.edu.pl/api/endpoints/75/data/\n",
      "    # Minimal data: 2021-10-07 21:07:07+00:00\n",
      "    # Maximal data: 2024-04-25 09:38:44+00:00\n",
      "# Updating data for given endpoint... \n",
      "    # Minimal data: 2021-10-07 21:07:07+00:00\n",
      "    # Maximal data: 2024-04-25 10:08:43+00:00\n",
      "Finished loading data \n",
      " \n",
      "Daily datas: 30\n",
      "Generated anomalies: 15\n",
      "    NORMAL: 15\n",
      "    ZEROS_IN_RANGE: 6\n",
      "    NOISE: 1\n",
      "    SCALED: 5\n",
      "    EXTINCTION: 1\n",
      "    RANDOM_ZEROS: 2\n",
      "\n",
      "Daily datas: 1154\n",
      "Generated anomalies: 451\n",
      "    RANDOM_ZEROS: 87\n",
      "    NORMAL: 703\n",
      "    SCALED: 92\n",
      "    NOISE: 97\n",
      "    ZEROS_IN_RANGE: 86\n",
      "    EXTINCTION: 89\n",
      "\n",
      "Daily datas: 6924\n",
      "Generated anomalies: 2771\n",
      "    NORMAL: 4153\n",
      "    RANDOM_ZEROS: 607\n",
      "    ZEROS_IN_RANGE: 537\n",
      "    EXTINCTION: 541\n",
      "    NOISE: 550\n",
      "    SCALED: 536\n"
     ]
    }
   ],
   "source": [
    "date_strings = ['01.01.2021 00:00', '28.02.2024 23:59']\n",
    "test_dates_string = ['01.03.2024 00:00', '30.03.2024 23:59']\n",
    "\n",
    "training_dates = [convert_to_datetime(date_strings[0]), convert_to_datetime(date_strings[1])]\n",
    "test_dates = [convert_to_datetime(test_dates_string[0]), convert_to_datetime(test_dates_string[1])]\n",
    "\n",
    "datas = DataManager(True).get_all_endpoints_data(endpoints_config, update=True)\n",
    "\n",
    "column = PM10\n",
    "L = LabeledDataGenerator(column)\n",
    "\n",
    "test_data = L.generate_labeled_data(datas[:1], test_dates[0], test_dates[1], 40)\n",
    "single_data = L.generate_labeled_data(datas[:1], training_dates[0], training_dates[1], 40)\n",
    "multi_data = L.generate_labeled_data(datas, training_dates[0], training_dates[1], 40)"
   ],
   "metadata": {
    "collapsed": false,
    "ExecuteTime": {
     "end_time": "2024-04-25T09:21:12.106759079Z",
     "start_time": "2024-04-25T09:19:07.905706419Z"
    }
   },
   "id": "b5ba002039fb817",
   "execution_count": 22
  },
  {
   "cell_type": "code",
   "outputs": [
    {
     "name": "stdout",
     "output_type": "stream",
     "text": [
      "checking: knn_SDSC\n",
      "   10\n",
      "   20\n",
      "   30\n",
      "   40\n",
      "   50\n",
      "   60\n"
     ]
    }
   ],
   "source": [
    "from matplotlib import pyplot as plt\n",
    "\n",
    "names_of_metrics = ['euclidean', 'cityblock', 'cosine']\n",
    "neighbours_max = 100\n",
    "config_list = [\n",
    "    {\n",
    "        'name': 'knn_SDSC',\n",
    "        'metrics': names_of_metrics,\n",
    "        'columns': [PM10],\n",
    "        'training_datas': single_data,\n",
    "        'test_datas': test_data\n",
    "    },\n",
    "    {\n",
    "        'name': 'knn_SDMC',\n",
    "        'metrics': names_of_metrics,\n",
    "        'columns': [PM10, PM1, PM2_5],\n",
    "        'training_datas': single_data,\n",
    "        'test_datas': test_data\n",
    "    },\n",
    "    {\n",
    "        'name': 'knn_MDSC',\n",
    "        'metrics': names_of_metrics,\n",
    "        'columns': [PM10],\n",
    "        'training_datas': multi_data,\n",
    "        'test_datas': test_data\n",
    "    },\n",
    "    {\n",
    "        'name': 'knn_MDMC',\n",
    "        'metrics': names_of_metrics,\n",
    "        'columns': [PM10, PM1, PM2_5],\n",
    "        'training_datas': multi_data,\n",
    "        'test_datas': test_data\n",
    "    }\n",
    "]\n",
    "\n",
    "plt.title('knn_euclidean')\n",
    "plt.figure(figsize=(10, 8))\n",
    "plt.ylabel('Accuracy')\n",
    "plt.xlabel('N_Neighbours')\n",
    "for config in config_list:\n",
    "    name = config['name']\n",
    "    print(\"checking: \" + name)\n",
    "    x = []\n",
    "    y = []\n",
    "    for i in range(1, neighbours_max):\n",
    "        if i%10==0:\n",
    "            print(f'   {i}')\n",
    "        knn = KNNClassifier(i, 'euclidean')\n",
    "        knn.fit_data(config['training_datas'], config['columns'])\n",
    "        accuracy = knn.test_accuracy(config['test_datas'], config['columns'])\n",
    "        x.append(i)\n",
    "        y.append(accuracy)\n",
    "\n",
    "    plt.scatter(x, y, label=name, alpha=0.5)\n",
    "plt.ylim(0, 1.1)\n",
    "plt.legend()\n",
    "plt.show()\n",
    "\n"
   ],
   "metadata": {
    "collapsed": false,
    "is_executing": true,
    "ExecuteTime": {
     "start_time": "2024-04-25T10:08:29.777785525Z"
    }
   },
   "id": "ca3e144e9322a09f",
   "execution_count": null
  },
  {
   "cell_type": "code",
   "outputs": [],
   "source": [],
   "metadata": {
    "collapsed": false,
    "ExecuteTime": {
     "start_time": "2024-04-25T09:27:38.931634932Z"
    }
   },
   "id": "16c061a45635b8ef"
  }
 ],
 "metadata": {
  "kernelspec": {
   "display_name": "Python 3",
   "language": "python",
   "name": "python3"
  },
  "language_info": {
   "codemirror_mode": {
    "name": "ipython",
    "version": 2
   },
   "file_extension": ".py",
   "mimetype": "text/x-python",
   "name": "python",
   "nbconvert_exporter": "python",
   "pygments_lexer": "ipython2",
   "version": "2.7.6"
  }
 },
 "nbformat": 4,
 "nbformat_minor": 5
}
