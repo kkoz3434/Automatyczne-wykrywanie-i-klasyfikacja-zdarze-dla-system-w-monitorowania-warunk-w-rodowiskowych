{
 "cells": [
  {
   "cell_type": "code",
   "execution_count": 2,
   "id": "initial_id",
   "metadata": {
    "collapsed": true,
    "ExecuteTime": {
     "end_time": "2024-05-04T10:41:28.861414891Z",
     "start_time": "2024-05-04T10:41:22.872545324Z"
    }
   },
   "outputs": [],
   "source": [
    "import pandas as pd\n",
    "from sklearn.metrics import accuracy_score\n",
    "\n",
    "from common.data_frame_columns import PM10, PM2_5, PM1\n",
    "from common.date_time_helper import convert_to_datetime\n",
    "from common.endpoints_urls import endpoints_config\n",
    "from common.working_dataset_config import working_datetime, test_date_time_strings\n",
    "from data_management.data_crawler import DataManager\n",
    "from data_management.data_reshaper import reshape_data, prepare_dataset, flatten_data\n",
    "from data_management.labeled_data_generator import LabeledDataGenerator, DataLabel\n",
    "import numpy as np\n",
    "from sklearn.neighbors import KNeighborsClassifier"
   ]
  },
  {
   "cell_type": "code",
   "outputs": [],
   "source": [
    "class KNNClassifier:\n",
    "    def __init__(self, neighbours, metric):\n",
    "        self.knn = KNeighborsClassifier(n_neighbors=neighbours, metric=metric)\n",
    "\n",
    "    def fit_data(self, labeled_data, columns):\n",
    "        X, y = prepare_dataset(labeled_data, columns)\n",
    "        X = flatten_data(X)\n",
    "        self.knn.fit(X, y)\n",
    "\n",
    "    def test_accuracy(self, labeled_data, columns):\n",
    "        X_set, y_set = prepare_dataset(labeled_data, columns)\n",
    "        X_set = flatten_data(X_set)\n",
    "        predicted = self.knn.predict(X_set)\n",
    "        accuracy = accuracy_score(y_set, predicted)\n",
    "        # print(\"Accuracy of KNN: \", accuracy)\n",
    "        # wrong_predicitons = [[DataLabel(p), DataLabel(y)] for p, y in zip(predicted, y_set) if p != y]\n",
    "        # print(\"[Predicted, Actual]\")\n",
    "        # for error in wrong_predicitons:\n",
    "        #     print(str(error[0]) + \", \" + str(error[1]))\n",
    "        return accuracy\n"
   ],
   "metadata": {
    "collapsed": false,
    "ExecuteTime": {
     "end_time": "2024-05-04T10:41:28.867969453Z",
     "start_time": "2024-05-04T10:41:28.863743272Z"
    }
   },
   "id": "df7140cf753249c6",
   "execution_count": 3
  },
  {
   "cell_type": "code",
   "outputs": [
    {
     "name": "stdout",
     "output_type": "stream",
     "text": [
      "Loading station data: Gronie  https://datahub.ki.agh.edu.pl/api/endpoints/70/data/\n",
      "    # Minimal data: 2022-07-13 23:38:02+00:00\n",
      "    # Maximal data: 2024-04-27 13:03:39+00:00\n",
      "# Updating data for given endpoint... \n",
      "    # Minimal data: 2022-07-13 23:38:02+00:00\n",
      "    # Maximal data: 2024-05-04 11:32:47+00:00\n",
      "Loading station data: Urząd Gminy  https://datahub.ki.agh.edu.pl/api/endpoints/71/data/\n"
     ]
    },
    {
     "name": "stderr",
     "output_type": "stream",
     "text": [
      "/media/kkoz34/HDD_kkoz34/Magisterka/Magisterka/data_management/data_crawler.py:93: DtypeWarning: Columns (49,54) have mixed types. Specify dtype option on import or set low_memory=False.\n",
      "  df = pd.read_csv(filename)\n"
     ]
    },
    {
     "name": "stdout",
     "output_type": "stream",
     "text": [
      "    # Minimal data: 2021-10-07 18:51:17+00:00\n",
      "    # Maximal data: 2024-04-27 13:02:25+00:00\n",
      "# Updating data for given endpoint... \n",
      "    # Minimal data: 2021-10-07 18:51:17+00:00\n",
      "    # Maximal data: 2024-05-04 11:40:46+00:00\n",
      "Loading station data: Młynne  https://datahub.ki.agh.edu.pl/api/endpoints/72/data/\n",
      "    # Minimal data: 2021-10-07 19:17:59+00:00\n",
      "    # Maximal data: 2024-04-27 13:02:28+00:00\n",
      "# Updating data for given endpoint... \n",
      "    # Minimal data: 2021-10-07 19:17:59+00:00\n",
      "    # Maximal data: 2024-05-04 11:31:29+00:00\n",
      "Loading station data: Sucharskiego  https://datahub.ki.agh.edu.pl/api/endpoints/73/data/\n",
      "    # Minimal data: 2021-10-07 19:41:43+00:00\n",
      "    # Maximal data: 2024-04-27 13:09:42+00:00\n",
      "# Updating data for given endpoint... \n",
      "    # Minimal data: 2021-10-07 19:41:43+00:00\n",
      "    # Maximal data: 2024-05-04 11:30:09+00:00\n",
      "Loading station data: Twardowskiego  https://datahub.ki.agh.edu.pl/api/endpoints/74/data/\n",
      "    # Minimal data: 2021-10-07 20:59:56+00:00\n",
      "    # Maximal data: 2024-04-27 13:03:55+00:00\n",
      "# Updating data for given endpoint... \n",
      "    # Minimal data: 2021-10-07 20:59:56+00:00\n",
      "    # Maximal data: 2024-05-04 11:33:08+00:00\n",
      "Loading station data: Konopnickiej  https://datahub.ki.agh.edu.pl/api/endpoints/75/data/\n",
      "    # Minimal data: 2023-11-23 12:07:07+00:00\n",
      "    # Maximal data: 2024-03-28 16:35:51+00:00\n",
      "# Updating data for given endpoint... \n",
      "    Crawling url: limit=100&offset=1900 DateTime: 2024-04-12 01:08:06+00:00\n",
      "    # Minimal data: 2023-11-23 12:07:07+00:00\n",
      "    # Maximal data: 2024-05-04 11:33:24+00:00\n",
      "Finished loading data \n",
      " \n",
      "Daily datas: 30\n",
      "Generated anomalies: 13\n",
      "    NORMAL: 17\n",
      "    RANDOM_ZEROS: 4\n",
      "    NOISE: 4\n",
      "    ZEROS_IN_RANGE: 3\n",
      "    EXTINCTION: 2\n",
      "\n",
      "Daily datas: 1154\n",
      "Generated anomalies: 448\n",
      "    NORMAL: 706\n",
      "    RANDOM_ZEROS: 81\n",
      "    ZEROS_IN_RANGE: 93\n",
      "    EXTINCTION: 95\n",
      "    NOISE: 99\n",
      "    SCALED: 80\n",
      "\n",
      "Daily datas: 6924\n",
      "Generated anomalies: 2679\n",
      "    NORMAL: 4245\n",
      "    ZEROS_IN_RANGE: 561\n",
      "    SCALED: 508\n",
      "    RANDOM_ZEROS: 564\n",
      "    NOISE: 512\n",
      "    EXTINCTION: 534\n"
     ]
    }
   ],
   "source": [
    "date_strings = ['01.01.2021 00:00', '28.02.2024 23:59']\n",
    "test_dates_string = ['01.03.2024 00:00', '30.03.2024 23:59']\n",
    "\n",
    "training_dates = [convert_to_datetime(date_strings[0]), convert_to_datetime(date_strings[1])]\n",
    "test_dates = [convert_to_datetime(test_dates_string[0]), convert_to_datetime(test_dates_string[1])]\n",
    "\n",
    "datas = DataManager(True).get_all_endpoints_data(endpoints_config, update=True)\n",
    "\n",
    "column = PM10\n",
    "L = LabeledDataGenerator(column)\n",
    "\n",
    "test_data = L.generate_labeled_data(datas[:1], test_dates[0], test_dates[1], 40)\n",
    "single_data = L.generate_labeled_data(datas[:1], training_dates[0], training_dates[1], 40)\n",
    "multi_data = L.generate_labeled_data(datas, training_dates[0], training_dates[1], 40)"
   ],
   "metadata": {
    "collapsed": false,
    "ExecuteTime": {
     "end_time": "2024-05-04T10:45:17.544134138Z",
     "start_time": "2024-05-04T10:41:28.870122787Z"
    }
   },
   "id": "b5ba002039fb817",
   "execution_count": 4
  },
  {
   "cell_type": "code",
   "outputs": [
    {
     "ename": "NameError",
     "evalue": "name 'single_data' is not defined",
     "output_type": "error",
     "traceback": [
      "\u001B[0;31m---------------------------------------------------------------------------\u001B[0m",
      "\u001B[0;31mNameError\u001B[0m                                 Traceback (most recent call last)",
      "Cell \u001B[0;32mIn[3], line 10\u001B[0m\n\u001B[1;32m      3\u001B[0m names_of_metrics \u001B[38;5;241m=\u001B[39m [\u001B[38;5;124m'\u001B[39m\u001B[38;5;124meuclidean\u001B[39m\u001B[38;5;124m'\u001B[39m, \u001B[38;5;124m'\u001B[39m\u001B[38;5;124mcityblock\u001B[39m\u001B[38;5;124m'\u001B[39m, \u001B[38;5;124m'\u001B[39m\u001B[38;5;124mcosine\u001B[39m\u001B[38;5;124m'\u001B[39m]\n\u001B[1;32m      4\u001B[0m neighbours_max \u001B[38;5;241m=\u001B[39m \u001B[38;5;241m100\u001B[39m\n\u001B[1;32m      5\u001B[0m config_list \u001B[38;5;241m=\u001B[39m [\n\u001B[1;32m      6\u001B[0m     {\n\u001B[1;32m      7\u001B[0m         \u001B[38;5;124m'\u001B[39m\u001B[38;5;124mname\u001B[39m\u001B[38;5;124m'\u001B[39m: \u001B[38;5;124m'\u001B[39m\u001B[38;5;124mknn_SDSC\u001B[39m\u001B[38;5;124m'\u001B[39m,\n\u001B[1;32m      8\u001B[0m         \u001B[38;5;124m'\u001B[39m\u001B[38;5;124mmetrics\u001B[39m\u001B[38;5;124m'\u001B[39m: names_of_metrics,\n\u001B[1;32m      9\u001B[0m         \u001B[38;5;124m'\u001B[39m\u001B[38;5;124mcolumns\u001B[39m\u001B[38;5;124m'\u001B[39m: [PM10],\n\u001B[0;32m---> 10\u001B[0m         \u001B[38;5;124m'\u001B[39m\u001B[38;5;124mtraining_datas\u001B[39m\u001B[38;5;124m'\u001B[39m: \u001B[43msingle_data\u001B[49m,\n\u001B[1;32m     11\u001B[0m         \u001B[38;5;124m'\u001B[39m\u001B[38;5;124mtest_datas\u001B[39m\u001B[38;5;124m'\u001B[39m: test_data\n\u001B[1;32m     12\u001B[0m     },\n\u001B[1;32m     13\u001B[0m     {\n\u001B[1;32m     14\u001B[0m         \u001B[38;5;124m'\u001B[39m\u001B[38;5;124mname\u001B[39m\u001B[38;5;124m'\u001B[39m: \u001B[38;5;124m'\u001B[39m\u001B[38;5;124mknn_SDMC\u001B[39m\u001B[38;5;124m'\u001B[39m,\n\u001B[1;32m     15\u001B[0m         \u001B[38;5;124m'\u001B[39m\u001B[38;5;124mmetrics\u001B[39m\u001B[38;5;124m'\u001B[39m: names_of_metrics,\n\u001B[1;32m     16\u001B[0m         \u001B[38;5;124m'\u001B[39m\u001B[38;5;124mcolumns\u001B[39m\u001B[38;5;124m'\u001B[39m: [PM10, PM1, PM2_5],\n\u001B[1;32m     17\u001B[0m         \u001B[38;5;124m'\u001B[39m\u001B[38;5;124mtraining_datas\u001B[39m\u001B[38;5;124m'\u001B[39m: single_data,\n\u001B[1;32m     18\u001B[0m         \u001B[38;5;124m'\u001B[39m\u001B[38;5;124mtest_datas\u001B[39m\u001B[38;5;124m'\u001B[39m: test_data\n\u001B[1;32m     19\u001B[0m     },\n\u001B[1;32m     20\u001B[0m     {\n\u001B[1;32m     21\u001B[0m         \u001B[38;5;124m'\u001B[39m\u001B[38;5;124mname\u001B[39m\u001B[38;5;124m'\u001B[39m: \u001B[38;5;124m'\u001B[39m\u001B[38;5;124mknn_MDSC\u001B[39m\u001B[38;5;124m'\u001B[39m,\n\u001B[1;32m     22\u001B[0m         \u001B[38;5;124m'\u001B[39m\u001B[38;5;124mmetrics\u001B[39m\u001B[38;5;124m'\u001B[39m: names_of_metrics,\n\u001B[1;32m     23\u001B[0m         \u001B[38;5;124m'\u001B[39m\u001B[38;5;124mcolumns\u001B[39m\u001B[38;5;124m'\u001B[39m: [PM10],\n\u001B[1;32m     24\u001B[0m         \u001B[38;5;124m'\u001B[39m\u001B[38;5;124mtraining_datas\u001B[39m\u001B[38;5;124m'\u001B[39m: multi_data,\n\u001B[1;32m     25\u001B[0m         \u001B[38;5;124m'\u001B[39m\u001B[38;5;124mtest_datas\u001B[39m\u001B[38;5;124m'\u001B[39m: test_data\n\u001B[1;32m     26\u001B[0m     },\n\u001B[1;32m     27\u001B[0m     {\n\u001B[1;32m     28\u001B[0m         \u001B[38;5;124m'\u001B[39m\u001B[38;5;124mname\u001B[39m\u001B[38;5;124m'\u001B[39m: \u001B[38;5;124m'\u001B[39m\u001B[38;5;124mknn_MDMC\u001B[39m\u001B[38;5;124m'\u001B[39m,\n\u001B[1;32m     29\u001B[0m         \u001B[38;5;124m'\u001B[39m\u001B[38;5;124mmetrics\u001B[39m\u001B[38;5;124m'\u001B[39m: names_of_metrics,\n\u001B[1;32m     30\u001B[0m         \u001B[38;5;124m'\u001B[39m\u001B[38;5;124mcolumns\u001B[39m\u001B[38;5;124m'\u001B[39m: [PM10, PM1, PM2_5],\n\u001B[1;32m     31\u001B[0m         \u001B[38;5;124m'\u001B[39m\u001B[38;5;124mtraining_datas\u001B[39m\u001B[38;5;124m'\u001B[39m: multi_data,\n\u001B[1;32m     32\u001B[0m         \u001B[38;5;124m'\u001B[39m\u001B[38;5;124mtest_datas\u001B[39m\u001B[38;5;124m'\u001B[39m: test_data\n\u001B[1;32m     33\u001B[0m     }\n\u001B[1;32m     34\u001B[0m ]\n\u001B[1;32m     36\u001B[0m plt\u001B[38;5;241m.\u001B[39mtitle(\u001B[38;5;124m'\u001B[39m\u001B[38;5;124mknn_euclidean\u001B[39m\u001B[38;5;124m'\u001B[39m)\n\u001B[1;32m     37\u001B[0m plt\u001B[38;5;241m.\u001B[39mfigure(figsize\u001B[38;5;241m=\u001B[39m(\u001B[38;5;241m10\u001B[39m, \u001B[38;5;241m8\u001B[39m))\n",
      "\u001B[0;31mNameError\u001B[0m: name 'single_data' is not defined"
     ]
    }
   ],
   "source": [
    "from matplotlib import pyplot as plt\n",
    "\n",
    "names_of_metrics = ['euclidean', 'cityblock', 'cosine']\n",
    "neighbours_max = 100\n",
    "config_list = [\n",
    "    {\n",
    "        'name': 'knn_SDSC',\n",
    "        'metrics': names_of_metrics,\n",
    "        'columns': [PM10],\n",
    "        'training_datas': single_data,\n",
    "        'test_datas': test_data\n",
    "    },\n",
    "    {\n",
    "        'name': 'knn_SDMC',\n",
    "        'metrics': names_of_metrics,\n",
    "        'columns': [PM10, PM1, PM2_5],\n",
    "        'training_datas': single_data,\n",
    "        'test_datas': test_data\n",
    "    },\n",
    "    {\n",
    "        'name': 'knn_MDSC',\n",
    "        'metrics': names_of_metrics,\n",
    "        'columns': [PM10],\n",
    "        'training_datas': multi_data,\n",
    "        'test_datas': test_data\n",
    "    },\n",
    "    {\n",
    "        'name': 'knn_MDMC',\n",
    "        'metrics': names_of_metrics,\n",
    "        'columns': [PM10, PM1, PM2_5],\n",
    "        'training_datas': multi_data,\n",
    "        'test_datas': test_data\n",
    "    }\n",
    "]\n",
    "\n",
    "plt.title('knn_euclidean')\n",
    "plt.figure(figsize=(10, 8))\n",
    "plt.ylabel('Accuracy')\n",
    "plt.xlabel('N_Neighbours')\n",
    "for config in config_list:\n",
    "    name = config['name']\n",
    "    print(\"checking: \" + name)\n",
    "    x = []\n",
    "    y = []\n",
    "    for i in range(1, neighbours_max):\n",
    "        if i%10==0:\n",
    "            print(f'   {i}')\n",
    "        knn = KNNClassifier(i, 'euclidean')\n",
    "        knn.fit_data(config['training_datas'], config['columns'])\n",
    "        accuracy = knn.test_accuracy(config['test_datas'], config['columns'])\n",
    "        x.append(i)\n",
    "        y.append(accuracy)\n",
    "\n",
    "    plt.plot(x, y, label=name)\n",
    "plt.ylim(0, 1.1)\n",
    "plt.legend()\n",
    "plt.show()\n",
    "\n"
   ],
   "metadata": {
    "collapsed": false,
    "ExecuteTime": {
     "end_time": "2024-04-27T13:57:43.771589024Z",
     "start_time": "2024-04-27T13:57:43.681954280Z"
    }
   },
   "id": "ca3e144e9322a09f",
   "execution_count": 3
  },
  {
   "cell_type": "code",
   "outputs": [],
   "source": [],
   "metadata": {
    "collapsed": false,
    "ExecuteTime": {
     "start_time": "2024-04-25T09:27:38.931634932Z"
    }
   },
   "id": "16c061a45635b8ef"
  }
 ],
 "metadata": {
  "kernelspec": {
   "display_name": "Python 3",
   "language": "python",
   "name": "python3"
  },
  "language_info": {
   "codemirror_mode": {
    "name": "ipython",
    "version": 2
   },
   "file_extension": ".py",
   "mimetype": "text/x-python",
   "name": "python",
   "nbconvert_exporter": "python",
   "pygments_lexer": "ipython2",
   "version": "2.7.6"
  }
 },
 "nbformat": 4,
 "nbformat_minor": 5
}
